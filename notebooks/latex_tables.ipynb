{
 "cells": [
  {
   "cell_type": "code",
   "execution_count": 5,
   "metadata": {},
   "outputs": [],
   "source": [
    "folder_path = '../results/phet/expanded'"
   ]
  },
  {
   "cell_type": "code",
   "execution_count": 6,
   "metadata": {},
   "outputs": [
    {
     "name": "stdout",
     "output_type": "stream",
     "text": [
      "Column names for LaTeX table (first half):\n",
      "Asthma.Json & Cataract.Json & Diabetes.Json & Gerd.Json & Hay Fever & Eczema.Json\n",
      "\n",
      "Column names for LaTeX table (second half):\n",
      "Major Depression.Json & Myocardial Infarction.Json & Osteoarthritis.Json & Pneumonia.Json & Stroke.Json\n",
      "\n",
      "AUROC rows for LaTeX table:\n",
      "First half: 0.56 (0.55-0.58) & 0.75 (0.74-0.76) & 0.82 (0.80-0.83) & 0.62 (0.60-0.63) & 0.57 (0.56-0.59)\n",
      "Second half: 0.63 (0.62-0.65) & 0.75 (0.73-0.77) & 0.69 (0.68-0.71) & 0.66 (0.64-0.68) & 0.75 (0.72-0.77)\n",
      "\n",
      "AUPRC rows for LaTeX table:\n",
      "First half: 0.19 (0.17-0.20) & 0.34 (0.31-0.36) & 0.39 (0.36-0.42) & 0.27 (0.25-0.28) & 0.26 (0.25-0.28)\n",
      "Second half: 0.21 (0.19-0.23) & 0.20 (0.18-0.23) & 0.45 (0.43-0.47) & 0.11 (0.09-0.13) & 0.09 (0.07-0.11)\n"
     ]
    }
   ],
   "source": [
    "import os\n",
    "import json\n",
    "import math\n",
    "\n",
    "def read_json_files(folder_path):\n",
    "    results = {}\n",
    "    for filename in os.listdir(folder_path):\n",
    "        if filename.endswith('.json'):\n",
    "            disease_name = filename.split('_')[0].replace('-', ' ').title()\n",
    "            with open(os.path.join(folder_path, filename), 'r') as f:\n",
    "                data = json.load(f)\n",
    "                results[disease_name] = data\n",
    "    return results\n",
    "\n",
    "def format_metric(mean, lower, upper):\n",
    "    return f\"{mean:.2f} ({lower:.2f}-{upper:.2f})\"\n",
    "\n",
    "def create_latex_rows(results, metric_prefix):\n",
    "    sorted_diseases = sorted(results.keys())\n",
    "    mid_point = math.ceil(len(sorted_diseases) / 2)\n",
    "    \n",
    "    first_half = sorted_diseases[:mid_point]\n",
    "    second_half = sorted_diseases[mid_point:]\n",
    "    \n",
    "    rows = []\n",
    "    for half in [first_half, second_half]:\n",
    "        cells = []\n",
    "        for disease in half:\n",
    "            metrics = results[disease]\n",
    "            mean = metrics[f'mean_{metric_prefix}']\n",
    "            lower = metrics[f'lower_{metric_prefix}']\n",
    "            upper = metrics[f'upper_{metric_prefix}']\n",
    "            cells.append(format_metric(mean, lower, upper))\n",
    "        rows.append(' & '.join(cells))\n",
    "    \n",
    "    return rows\n",
    "\n",
    "# Read JSON files\n",
    "results = read_json_files(folder_path)\n",
    "\n",
    "# Create and print column names (diseases)\n",
    "sorted_diseases = sorted(results.keys())\n",
    "mid_point = math.ceil(len(sorted_diseases) / 2)\n",
    "first_half_diseases = sorted_diseases[:mid_point]\n",
    "second_half_diseases = sorted_diseases[mid_point:]\n",
    "\n",
    "print(\"Column names for LaTeX table (first half):\")\n",
    "print(' & '.join(first_half_diseases))\n",
    "print(\"\\nColumn names for LaTeX table (second half):\")\n",
    "print(' & '.join(second_half_diseases))\n",
    "\n",
    "# Create and print AUROC rows\n",
    "auroc_rows = create_latex_rows(results, 'auroc')\n",
    "print(\"\\nAUROC rows for LaTeX table:\")\n",
    "print(\"First half:\", auroc_rows[0])\n",
    "print(\"Second half:\", auroc_rows[1])\n",
    "\n",
    "# Create and print AUPRC rows\n",
    "auprc_rows = create_latex_rows(results, 'auprc')\n",
    "print(\"\\nAUPRC rows for LaTeX table:\")\n",
    "print(\"First half:\", auprc_rows[0])\n",
    "print(\"Second half:\", auprc_rows[1])"
   ]
  }
 ],
 "metadata": {
  "kernelspec": {
   "display_name": "HeLM",
   "language": "python",
   "name": "python3"
  },
  "language_info": {
   "codemirror_mode": {
    "name": "ipython",
    "version": 3
   },
   "file_extension": ".py",
   "mimetype": "text/x-python",
   "name": "python",
   "nbconvert_exporter": "python",
   "pygments_lexer": "ipython3",
   "version": "3.12.4"
  }
 },
 "nbformat": 4,
 "nbformat_minor": 2
}
